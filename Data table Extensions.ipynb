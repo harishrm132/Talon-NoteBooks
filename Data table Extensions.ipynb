{
  "cells": [
    {
      "cell_type": "markdown",
      "metadata": {},
      "source": [
        "# Datatable Extensions"
      ]
    },
    {
      "cell_type": "code",
      "execution_count": 1,
      "metadata": {
        "dotnet_interactive": {
          "language": "csharp"
        }
      },
      "source": [
        "using System.Data;\n",
        "DataTable Dt_New = new DataTable();"
      ],
      "outputs": []
    },
    {
      "cell_type": "markdown",
      "metadata": {},
      "source": [
        "### Move Column Order as per the Column Name - https://stackoverflow.com/questions/3757997/how-to-change-datatable-columns-order"
      ]
    },
    {
      "cell_type": "code",
      "execution_count": 1,
      "metadata": {
        "dotnet_interactive": {
          "language": "csharp"
        }
      },
      "source": [
        "public static class DataTableExtensions\n",
        "{\n",
        "    public static void SetColumnsOrder(this DataTable table, params String[] columnNames)\n",
        "    {\n",
        "        int columnIndex = 0;\n",
        "        foreach(var columnName in columnNames)\n",
        "        {\n",
        "            table.Columns[columnName].SetOrdinal(columnIndex);\n",
        "            columnIndex++;\n",
        "        }\n",
        "    }\n",
        "}"
      ],
      "outputs": [
        {
          "output_type": "error",
          "ename": "Error",
          "evalue": "[object Object]",
          "traceback": []
        }
      ]
    },
    {
      "cell_type": "markdown",
      "metadata": {},
      "source": [
        "### Remove duplicate rows based on any column name"
      ]
    },
    {
      "cell_type": "code",
      "execution_count": 1,
      "metadata": {
        "dotnet_interactive": {
          "language": "csharp"
        }
      },
      "source": [
        "public static void RemoveDuplicateRows(this DataTable table, string DistinctColumn)\n",
        "{\n",
        "    ArrayList UniqueRecords = new ArrayList();\n",
        "    ArrayList DuplicateRecords = new ArrayList();\n",
        "\n",
        "    // Check if records is already added to UniqueRecords otherwise,\n",
        "    // Add the records to DuplicateRecords\n",
        "    foreach (DataRow dRow in table.Rows)\n",
        "    {\n",
        "        if (UniqueRecords.Contains(dRow[DistinctColumn]))\n",
        "            DuplicateRecords.Add(dRow);\n",
        "        else\n",
        "            UniqueRecords.Add(dRow[DistinctColumn]);\n",
        "    }\n",
        "\n",
        "    // Remove duplicate rows from DataTable added to DuplicateRecords\n",
        "    foreach (DataRow dRow in DuplicateRecords)\n",
        "    {\n",
        "        table.Rows.Remove(dRow);\n",
        "    }\n",
        "}"
      ],
      "outputs": []
    },
    {
      "cell_type": "markdown",
      "metadata": {},
      "source": [
        "### Remove rows with the Null Value in the Particular Column Index"
      ]
    },
    {
      "cell_type": "code",
      "execution_count": 1,
      "metadata": {
        "dotnet_interactive": {
          "language": "csharp"
        }
      },
      "source": [
        "public static void RemoveNullRows(this DataTable table, int ColumnIndex)\n",
        "{\n",
        "    ArrayList UniqueRecords = new ArrayList();\n",
        "    ArrayList NullRecords = new ArrayList();\n",
        "\n",
        "    // Check if records is already added to UniqueRecords otherwise,\n",
        "    // Add the records to NullRecords\n",
        "    foreach (DataRow dRow in table.Rows)\n",
        "    {\n",
        "        if(dRow.IsNull(ColumnIndex))\n",
        "            NullRecords.Add(dRow);\n",
        "        else\n",
        "            UniqueRecords.Add(dRow[ColumnIndex]);\n",
        "    }\n",
        "\n",
        "    // Remove duplicate rows from DataTable added to NullRecords\n",
        "    foreach (DataRow dRow in NullRecords)\n",
        "    {\n",
        "        table.Rows.Remove(dRow);\n",
        "    }\n",
        "}"
      ],
      "outputs": []
    },
    {
      "cell_type": "markdown",
      "metadata": {},
      "source": [
        "### Filter Datatable with the string passed"
      ]
    },
    {
      "cell_type": "code",
      "execution_count": 1,
      "metadata": {
        "dotnet_interactive": {
          "language": "csharp"
        }
      },
      "source": [
        "public static void Filter(this DataTable table, string filter)\n",
        "{\n",
        "    table.DefaultView.RowFilter = filter;\n",
        "}"
      ],
      "outputs": []
    },
    {
      "cell_type": "markdown",
      "metadata": {},
      "source": [
        "### Boolean to Check the Row count"
      ]
    },
    {
      "cell_type": "code",
      "execution_count": 1,
      "metadata": {
        "dotnet_interactive": {
          "language": "csharp"
        }
      },
      "source": [
        "public static bool HasRows(this DataTable dt)\n",
        "{\n",
        "\treturn dt.Rows.Count > 0;\n",
        "}"
      ],
      "outputs": []
    },
    {
      "cell_type": "markdown",
      "metadata": {},
      "source": [
        "### Set Primary key to the Column with Column name"
      ]
    },
    {
      "cell_type": "code",
      "execution_count": 1,
      "metadata": {
        "dotnet_interactive": {
          "language": "csharp"
        }
      },
      "source": [
        "public static void SetPrimaryCol(this DataTable table, String columnName)\n",
        "{\n",
        "    table.PrimaryKey = new DataColumn[] { table.Columns[columnName] };\n",
        "}"
      ],
      "outputs": []
    },
    {
      "cell_type": "markdown",
      "metadata": {},
      "source": [
        "### Filter Datatable by list"
      ]
    },
    {
      "cell_type": "code",
      "execution_count": 1,
      "metadata": {
        "dotnet_interactive": {
          "language": "csharp"
        }
      },
      "source": [
        "public static void FilterTableByList(this DataTable table, List<int> list, String columnName)\n",
        "{\n",
        "    table.AsEnumerable()\n",
        "                .Where(dr => list.Contains(Convert.ToInt32(dr[\"NODE\"].ToString()))).Distinct()\n",
        "                .CopyToDataTable();\n",
        "}"
      ],
      "outputs": []
    },
    {
      "cell_type": "markdown",
      "metadata": {},
      "source": [
        "### Fill XML into Dataset"
      ]
    },
    {
      "cell_type": "code",
      "execution_count": 1,
      "metadata": {
        "dotnet_interactive": {
          "language": "csharp"
        }
      },
      "source": [
        "using System.IO;\n",
        "public static void FillWithXml(this DataSet set, string XML)\n",
        "{\n",
        " StringReader sr = new StringReader(XML);\n",
        " set.ReadXml(sr, XmlReadMode.InferSchema);\n",
        " set.AcceptChanges();\n",
        "}"
      ],
      "outputs": []
    },
    {
      "cell_type": "code",
      "execution_count": 1,
      "metadata": {
        "dotnet_interactive": {
          "language": "csharp"
        }
      },
      "source": [
        ""
      ],
      "outputs": []
    }
  ],
  "metadata": {
    "kernelspec": {
      "display_name": ".NET (C#)",
      "language": "C#",
      "name": ".net-csharp"
    },
    "language_info": {
      "file_extension": ".cs",
      "mimetype": "text/x-csharp",
      "name": "C#",
      "pygments_lexer": "csharp",
      "version": "8.0"
    }
  },
  "nbformat": 4,
  "nbformat_minor": 4
}