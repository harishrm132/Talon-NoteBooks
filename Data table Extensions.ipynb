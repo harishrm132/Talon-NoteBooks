{
  "cells": [
    {
      "cell_type": "markdown",
      "metadata": {},
      "source": [
        "# Datatable Extensions"
      ]
    },
    {
      "cell_type": "code",
      "execution_count": 1,
      "metadata": {
        "dotnet_interactive": {
          "language": "csharp"
        }
      },
      "outputs": [],
      "source": [
        "using System.Data;\n",
        "DataTable Dt_New = new DataTable();"
      ]
    },
    {
      "cell_type": "markdown",
      "metadata": {},
      "source": [
        "### Move Column Order as per the Column Name - https://stackoverflow.com/questions/3757997/how-to-change-datatable-columns-order"
      ]
    },
    {
      "cell_type": "code",
      "execution_count": 1,
      "metadata": {
        "dotnet_interactive": {
          "language": "csharp"
        }
      },
      "outputs": [
        {
          "ename": "Error",
          "evalue": "[object Object]",
          "output_type": "error",
          "traceback": []
        }
      ],
      "source": [
        "public static class DataTableExtensions\n",
        "{\n",
        "    public static void SetColumnsOrder(this DataTable table, params String[] columnNames)\n",
        "    {\n",
        "        int columnIndex = 0;\n",
        "        foreach(var columnName in columnNames)\n",
        "        {\n",
        "            table.Columns[columnName].SetOrdinal(columnIndex);\n",
        "            columnIndex++;\n",
        "        }\n",
        "    }\n",
        "}"
      ]
    },
    {
      "cell_type": "markdown",
      "metadata": {},
      "source": [
        "### Remove duplicate rows based on any column name"
      ]
    },
    {
      "cell_type": "code",
      "execution_count": 1,
      "metadata": {
        "dotnet_interactive": {
          "language": "csharp"
        }
      },
      "outputs": [],
      "source": [
        "public static void RemoveDuplicateRows(this DataTable table, string DistinctColName)\r\n",
        "{\r\n",
        "    ArrayList UniqueRecords = new ArrayList();\r\n",
        "    ArrayList DuplicateRecords = new ArrayList();\r\n",
        "\r\n",
        "    // Check if records is already added to UniqueRecords otherwise,\r\n",
        "    // Add the records to DuplicateRecords\r\n",
        "    foreach (DataRow dRow in table.Rows)\r\n",
        "    {\r\n",
        "        if (UniqueRecords.Contains(dRow[DistinctColName]))\r\n",
        "            DuplicateRecords.Add(dRow);\r\n",
        "        else\r\n",
        "            UniqueRecords.Add(dRow[DistinctColName]);\r\n",
        "    }\r\n",
        "\r\n",
        "    // Remove duplicate rows from DataTable added to DuplicateRecords\r\n",
        "    foreach (DataRow dRow in DuplicateRecords)\r\n",
        "    {\r\n",
        "        table.Rows.Remove(dRow);\r\n",
        "    }\r\n",
        "}"
      ]
    },
    {
      "cell_type": "markdown",
      "metadata": {},
      "source": [
        "### Remove rows with the Null Value in the Particular Column Index"
      ]
    },
    {
      "cell_type": "code",
      "execution_count": 1,
      "metadata": {
        "dotnet_interactive": {
          "language": "csharp"
        }
      },
      "outputs": [],
      "source": [
        "public static void RemoveNullRows(this DataTable table, int ColumnIndex)\n",
        "{\n",
        "    ArrayList UniqueRecords = new ArrayList();\n",
        "    ArrayList NullRecords = new ArrayList();\n",
        "\n",
        "    // Check if records is already added to UniqueRecords otherwise,\n",
        "    // Add the records to NullRecords\n",
        "    foreach (DataRow dRow in table.Rows)\n",
        "    {\n",
        "        if(dRow.IsNull(ColumnIndex))\n",
        "            NullRecords.Add(dRow);\n",
        "        else\n",
        "            UniqueRecords.Add(dRow[ColumnIndex]);\n",
        "    }\n",
        "\n",
        "    // Remove duplicate rows from DataTable added to NullRecords\n",
        "    foreach (DataRow dRow in NullRecords)\n",
        "    {\n",
        "        table.Rows.Remove(dRow);\n",
        "    }\n",
        "}"
      ]
    },
    {
      "cell_type": "markdown",
      "metadata": {},
      "source": [
        "### Filter Datatable with the string passed"
      ]
    },
    {
      "cell_type": "code",
      "execution_count": 1,
      "metadata": {
        "dotnet_interactive": {
          "language": "csharp"
        }
      },
      "outputs": [],
      "source": [
        "public static DataTable DasFilter(this DataTable table, string filter)\r\n",
        "{\r\n",
        "    DataView dv = table.DefaultView;\r\n",
        "    dv.RowFilter = filter;\r\n",
        "    table = dv.ToTable().Copy();\r\n",
        "    return table;\r\n",
        "}"
      ]
    },
    {
      "cell_type": "markdown",
      "metadata": {},
      "source": [
        "### Boolean to Check the Row count"
      ]
    },
    {
      "cell_type": "code",
      "execution_count": 1,
      "metadata": {
        "dotnet_interactive": {
          "language": "csharp"
        }
      },
      "outputs": [],
      "source": [
        "public static bool HasRows(this DataTable dt)\n",
        "{\n",
        "\treturn dt.Rows.Count > 0;\n",
        "}"
      ]
    },
    {
      "cell_type": "markdown",
      "metadata": {},
      "source": [
        "### Set Primary key to the Column with Column name"
      ]
    },
    {
      "cell_type": "code",
      "execution_count": 1,
      "metadata": {
        "dotnet_interactive": {
          "language": "csharp"
        }
      },
      "outputs": [],
      "source": [
        "public static void SetPrimaryCol(this DataTable table, String ColName)\r\n",
        "{\r\n",
        "    table.PrimaryKey = new DataColumn[] { table.Columns[ColName] };\r\n",
        "}"
      ]
    },
    {
      "cell_type": "markdown",
      "metadata": {},
      "source": [
        "### Filter Datatable by list"
      ]
    },
    {
      "cell_type": "code",
      "execution_count": 1,
      "metadata": {
        "dotnet_interactive": {
          "language": "csharp"
        }
      },
      "outputs": [],
      "source": [
        "public static void FilterTableByList(this DataTable table, List<int> list, String ColName)\r\n",
        "{\r\n",
        "    table.AsEnumerable()\r\n",
        "                .Where(dr => list.Contains(Convert.ToInt32(dr[ColName].ToString()))).Distinct()\r\n",
        "                .CopyToDataTable();\r\n",
        "}"
      ]
    },
    {
      "cell_type": "markdown",
      "metadata": {},
      "source": [
        "### Fill XML into Dataset"
      ]
    },
    {
      "cell_type": "code",
      "execution_count": 1,
      "metadata": {
        "dotnet_interactive": {
          "language": "csharp"
        }
      },
      "outputs": [],
      "source": [
        "using System.IO;\n",
        "public static void FillWithXml(this DataSet set, string XML)\n",
        "{\n",
        " StringReader sr = new StringReader(XML);\n",
        " set.ReadXml(sr, XmlReadMode.InferSchema);\n",
        " set.AcceptChanges();\n",
        "}"
      ]
    },
    {
      "cell_type": "markdown",
      "metadata": {},
      "source": [
        "Check Wether particular Datacolumn is empty by Column Number"
      ]
    },
    {
      "cell_type": "code",
      "execution_count": 1,
      "metadata": {
        "dotnet_interactive": {
          "language": "csharp"
        }
      },
      "outputs": [],
      "source": [
        "public static bool IsColumnEmpty(this DataTable dt, String ColName)\r\n",
        "{\r\n",
        "    foreach (DataRow row in dt.Rows)\r\n",
        "    {\r\n",
        "        if (row[ColName].ToString() == \"\")\r\n",
        "        { return true; }\r\n",
        "    }\r\n",
        "    return false;\r\n",
        "}"
      ]
    },
    {
      "cell_type": "markdown",
      "metadata": {},
      "source": [
        "Check Weather column is of particular datatype"
      ]
    },
    {
      "cell_type": "code",
      "execution_count": null,
      "metadata": {},
      "outputs": [],
      "source": [
        "public static bool IsColumnofType(this DataTable dt, Type type, string ColName)\r\n",
        "{\r\n",
        "    if (dt.Columns[ColName].DataType != type) { return false; }\r\n",
        "    return true;\r\n",
        "}"
      ]
    }
  ],
  "metadata": {
    "kernelspec": {
      "display_name": "Python 3.7.8 64-bit",
      "metadata": {
        "interpreter": {
          "hash": "57baa5815c940fdaff4d14510622de9616cae602444507ba5d0b6727c008cbd6"
        }
      },
      "name": "python3"
    },
    "language_info": {
      "file_extension": ".cs",
      "mimetype": "text/x-csharp",
      "name": "csharp",
      "pygments_lexer": "csharp",
      "version": "3.7.8-final"
    }
  },
  "nbformat": 4,
  "nbformat_minor": 4
}