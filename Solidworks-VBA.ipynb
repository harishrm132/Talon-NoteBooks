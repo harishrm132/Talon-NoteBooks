{
 "cells": [
  {
   "cell_type": "markdown",
   "metadata": {},
   "source": [
    "# Solidworks VBA"
   ]
  },
  {
   "cell_type": "markdown",
   "metadata": {},
   "source": [
    "# Modelling "
   ]
  },
  {
   "cell_type": "markdown",
   "metadata": {},
   "source": [
    "## Initialize Model\r\n",
    "To Create a New Document"
   ]
  },
  {
   "cell_type": "code",
   "execution_count": null,
   "metadata": {
    "dotnet_interactive": {
     "language": "csharp"
    }
   },
   "outputs": [],
   "source": [
    "' Create Solidworks document \r\n",
    "Dim swDoc As SldWorks.ModelDoc2\r\n",
    "' Creating string type variable for storing default part location \r\n",
    "Dim defaultTemplate As String\r\n",
    "' Setting value of this string type variable to \"Default part template\" \r\n",
    "defaultTemplate = swApp.GetUserPreferenceStringValue(swUserPreferenceStringValue_e.swDefaultTemplatePart)\r\n",
    "' Setting to new part document (Teamplate Name, Paper Size, Width, Height) \r\n",
    "Set swDoc = swApp.NewDocument(defaultTemplate, 0, 0, 0)"
   ]
  },
  {
   "cell_type": "markdown",
   "metadata": {},
   "source": [
    "To Use Existing & Active document"
   ]
  },
  {
   "cell_type": "code",
   "execution_count": null,
   "metadata": {
    "dotnet_interactive": {
     "language": "csharp"
    }
   },
   "outputs": [],
   "source": [
    "Set swDoc = swApp.ActiveDoc\r\n",
    "' From Directory \r\n",
    "Set swDoc = swApp.OpenDoc(\"H:\\part.SLDPRT\", swDocumentTypes_e.swDocPART)\r\n",
    "' For more option while opening a document  \r\n",
    "//File, Type, Options(mode to open doc), Configuartion (\"\" to use previous one), Errors (swFileLoadError_e), Warnings (swFileLoadWarning_e)\r\n",
    "Set swDoc = swApp.OpenDoc6(\"H:\\part.SLDPRT\", swDocumentTypes_e.swDocPART, swOpenDocOptions_e.swOpenDocOptions_Silent, \"\", 0, 0)"
   ]
  },
  {
   "cell_type": "markdown",
   "metadata": {},
   "source": [
    "## Units\r\n",
    "Sw only take value in meters\r\n",
    "Use this when we need to define any length or angle value."
   ]
  },
  {
   "cell_type": "code",
   "execution_count": null,
   "metadata": {
    "dotnet_interactive": {
     "language": "csharp"
    }
   },
   "outputs": [],
   "source": [
    "' Variables used as Conversion Factors \r\n",
    "  Dim LengthCF As Double\r\n",
    "  Dim AngleCF As Double\r\n",
    "  \r\n",
    "  ' Use a Select Case, to get the length of active Unit and set the different factors \r\n",
    "  Select Case swDoc.GetUnits(0)       ' GetUnits function gives us, active unit\r\n",
    "    \r\n",
    "    Case swMETER    ' If length is in Meter\r\n",
    "      LengthCF = 1 \r\n",
    "      AngleCF = 1\r\n",
    "    \r\n",
    "    Case swMM       ' If length is in MM\r\n",
    "      LengthCF = 1 / 1000\r\n",
    "      AngleCF = 1 * 0.01745329\r\n",
    "    \r\n",
    "    Case swCM       ' If length is in CM\r\n",
    "      LengthCF = 1 / 100\r\n",
    "      AngleCF = 1 * 0.01745329\r\n",
    "    \r\n",
    "    Case swINCHES   ' If length is in INCHES\r\n",
    "      LengthCF = 1 * 0.0254\r\n",
    "      AngleCF = 1 * 0.01745329\r\n",
    "    \r\n",
    "    Case swFEET     ' If length is in FEET\r\n",
    "      LengthCF = 1 * (0.0254 * 12)\r\n",
    "      AngleCF = 1 * 0.01745329\r\n",
    "    \r\n",
    "    Case swFEETINCHES     ' If length is in FEET & INCHES\r\n",
    "      LengthCF = 1 * 0.0254  ' For length we use sama as Inch\r\n",
    "      AngleCF = 1 * 0.01745329\r\n",
    "    \r\n",
    "    Case swANGSTROM        ' If length is in ANGSTROM\r\n",
    "      LengthCF = 1 / 10000000000#\r\n",
    "      AngleCF = 1 * 0.01745329\r\n",
    "    \r\n",
    "    Case swNANOMETER       ' If length is in NANOMETER\r\n",
    "      LengthCF = 1 / 1000000000\r\n",
    "      AngleCF = 1 * 0.01745329\r\n",
    "    \r\n",
    "    Case swMICRON       ' If length is in MICRON\r\n",
    "      LengthCF = 1 / 1000000\r\n",
    "      AngleCF = 1 * 0.01745329\r\n",
    "  End Select\r\n"
   ]
  }
 ],
 "metadata": {
  "kernelspec": {
   "display_name": ".NET (C#)",
   "language": "C#",
   "name": ".net-csharp"
  },
  "language_info": {
   "name": "C#"
  }
 },
 "nbformat": 4,
 "nbformat_minor": 2
}