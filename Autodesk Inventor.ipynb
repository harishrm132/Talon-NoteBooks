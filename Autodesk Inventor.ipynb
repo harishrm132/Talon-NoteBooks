{
 "cells": [
  {
   "cell_type": "markdown",
   "metadata": {},
   "source": [
    "# Autodesk Inventor - ilogic\r\n",
    "Used in Parts, Assemblies and drawings For Analyze (Read), Modify (Update) and Create/Delete content of the document.\r\n",
    "1.  iLogic Browser - All contents of the ilogic"
   ]
  },
  {
   "cell_type": "markdown",
   "metadata": {},
   "source": [
    "## Parameters"
   ]
  },
  {
   "cell_type": "markdown",
   "metadata": {},
   "source": [
    "## Rules  \r\n",
    "### Clamp Parameter to Range\r\n",
    "Define the Limit of the particular dimension\r\n"
   ]
  },
  {
   "cell_type": "code",
   "execution_count": null,
   "metadata": {},
   "outputs": [],
   "source": [
    "If width < 8 Then\r\n",
    "iProperties.PartColor = \"Red\"\r\n",
    "//\tMessageBox.Show(\"Defined Width is too small; Setting to 8\")\r\n",
    "//\tLogger.Warn(\"Defined Width is too small; Setting to 8\")\r\n",
    "width = 8\r\n",
    "Else\r\n",
    "iProperties.PartColor = \"Particle Board\"\r\n",
    "End if"
   ]
  },
  {
   "cell_type": "markdown",
   "metadata": {},
   "source": [
    "### Feature Toggle\r\n",
    "Toggle Feature or Parts based on the Configuration"
   ]
  },
  {
   "cell_type": "code",
   "execution_count": null,
   "metadata": {},
   "outputs": [],
   "source": [
    "// ***CompanyDecal***\r\n",
    "Feature.IsActive(\"CompanyDecal\") = HasDecal"
   ]
  },
  {
   "cell_type": "markdown",
   "metadata": {},
   "source": [
    "### Project Properties Update\r\n",
    "Properties of the .ipt or .iam Files"
   ]
  },
  {
   "cell_type": "code",
   "execution_count": null,
   "metadata": {},
   "outputs": [],
   "source": [
    "If String.IsNullOrEmpty(iProperties.Value(\"Project\", \"Project\")) Then\r\n",
    " Dim newString = InputBox(\"Customer project ID, or None\", \"Project\", \"\")\r\n",
    " If (Not String.IsNullOrEmpty(newString)) Then\r\n",
    " iProperties.Value(\"Project\", \"Project\") = newString\r\n",
    " End If\r\n",
    "End If"
   ]
  },
  {
   "cell_type": "markdown",
   "metadata": {},
   "source": [
    "## Forms \r\n",
    "Interact with (customize, configure) a model\r\n",
    "Can Add parameters, Combo box values, Run the rule from form\r\n"
   ]
  },
  {
   "cell_type": "markdown",
   "metadata": {},
   "source": [
    "## Events Triggers\r\n",
    "Can Trigger based on the event happen in the document"
   ]
  },
  {
   "cell_type": "code",
   "execution_count": null,
   "metadata": {},
   "outputs": [],
   "source": [
    "//Trigger based on the Props value at time\r\n",
    "If String.IsNullOrEmpty(iProperties.Value(\"Project\", \"Project\")) Then\r\n",
    " Dim newString = InputBox(\"Customer project ID, or None\", \"Project\", \"\")\r\n",
    " If (Not String.IsNullOrEmpty(newString)) Then\r\n",
    " iProperties.Value(\"Project\", \"Project\") = newString\r\n",
    " End If\r\n",
    "End If"
   ]
  },
  {
   "cell_type": "code",
   "execution_count": null,
   "metadata": {},
   "outputs": [],
   "source": [
    "//Update Project Description\r\n",
    "Dim rndLength = RoundToFraction(length, 1 / 8, RoundingMethod.Round)\r\n",
    "Dim rndWidth = RoundToFraction(width, 1 / 8, RoundingMethod.Round)\r\n",
    "Dim rndHeight = RoundToFraction(height, 1/8, RoundingMethod.Round)\r\n",
    "iProperties.Value(\"Project\", \"Description\") = rndLength & \" x \" & rndWidth & \" x \" & rndHeight"
   ]
  },
  {
   "cell_type": "markdown",
   "metadata": {},
   "source": [
    "## Assembly\r\n",
    "Push params of Asssembly into the appropiate params of child components. \r\n",
    "#### Kind of Top-Down Design\r\n",
    "It’s a one-way transfer. If you go into the IPT files, you can “manually” change the parameter values and the IAM won’t be aware of it. \r\n",
    "(Updates from Assembly to part is only possible)"
   ]
  },
  {
   "cell_type": "code",
   "execution_count": null,
   "metadata": {},
   "outputs": [],
   "source": [
    "Parameter(\"box\", \"length\") = length\r\n",
    "Parameter(\"box\", \"width\") = width\r\n",
    "Parameter(\"box\", \"thickness\") = thickness\r\n",
    "Parameter(\"box\", \"height\") = height - coverHeight\r\n",
    "\t\r\n",
    "Parameter(\"cover\", \"height\") = coverHeight\r\n",
    "Parameter(\"cover\", \"length\") = length\r\n",
    "Parameter(\"cover\", \"width\") = width\r\n",
    "Parameter(\"cover\", \"thickness\") = thickness"
   ]
  },
  {
   "cell_type": "markdown",
   "metadata": {},
   "source": [
    "### LOD - Level Of Details\r\n",
    "In the “Model” browser --> Expand “Representations” --> Right-click on “Level of Detail: Master”, and select “New Level of Detail”"
   ]
  },
  {
   "cell_type": "code",
   "execution_count": null,
   "metadata": {},
   "outputs": [],
   "source": [
    "//Component Suppress based on user Parameters\r\n",
    "Component.IsActive(\"cover\") = hasCover"
   ]
  },
  {
   "cell_type": "markdown",
   "metadata": {},
   "source": [
    "1.  When the cover is NOT present, we want the box’s height to be the total height (i.e., not subtract the coverHeight)"
   ]
  },
  {
   "cell_type": "code",
   "execution_count": null,
   "metadata": {},
   "outputs": [],
   "source": [
    "if (hasCover) then\r\n",
    "    Parameters(\"box\", \"Height\") = Height - CoverHeight\r\n",
    "Else\r\n",
    "    Parameters(\"box\", \"Height\") = Height\r\n",
    "End if"
   ]
  },
  {
   "cell_type": "markdown",
   "metadata": {},
   "source": [
    "1.  Create Constraint Only when the component is present\r\n",
    "2.  when there is no-cover, there’s really no “cover” component at all! It has really been deleted. So all of the parameter-setting statements, like “Parameter(“cover”, “height”) = coverHeight”, will fail. "
   ]
  },
  {
   "cell_type": "code",
   "execution_count": null,
   "metadata": {},
   "outputs": [],
   "source": [
    "ThisAssembly.BeginManage()\r\n",
    "\r\n",
    "If (hasCover) Then\r\n",
    "\tDim coverPos = ThisAssembly.Geometry.Matrix(1, 0, 0, 12.279323679811,\r\n",
    "                                            0, -0.367784383904, -0.929911096265, 36.516478555681,\r\n",
    "                                            0, 0.929911096265, -0.367784383904, 3.867390889031,\r\n",
    "                                            0, 0, 0, 1)\r\n",
    "\tDim cover = Components.Add(\"cover\", \"cover.ipt\", coverPos)\r\n",
    "\r\n",
    "\tConstraints.AddFlush(\"flushLeft\", \"cover\", \"leftFace\", \"box\", \"wpLeft\")\r\n",
    "\tConstraints.AddMate(\"hinge\", \"cover\", \"hingeEdge\", \"box\", \"hingeAxis\",\r\n",
    "\t                    solutionType := MateConstraintSolutionTypeEnum.kUndirectedSolutionType)\r\n",
    "\r\n",
    "End If\r\n",
    "\r\n",
    "If (hasCover) Then\r\n",
    "    Parameter(\"box\", \"height\") = height - coverHeight\r\n",
    "    Parameter(\"cover\", \"height\") = coverHeight\r\n",
    "    Parameter(\"cover\", \"length\") = length\r\n",
    "    Parameter(\"cover\", \"width\") = width\r\n",
    "    Parameter(\"cover\", \"thickness\") = thickness\r\n",
    "Else\r\n",
    "    Parameter(\"box\", \"height\") = height\r\n",
    "End If"
   ]
  },
  {
   "cell_type": "markdown",
   "metadata": {},
   "source": [
    "Update Configuration list - Based On the Excel File "
   ]
  },
  {
   "cell_type": "code",
   "execution_count": null,
   "metadata": {},
   "outputs": [],
   "source": [
    "Dim configs As New ArrayList\r\n",
    "\r\n",
    "Dim dbpath As String = System.IO.Path.Combine(ThisDoc.Path, \"standardSizes.xlsx\")\r\n",
    "GoExcel.Open(dbpath, \"Sheet1\")\r\n",
    "\r\n",
    "For i = 2 To 100  'Skip header row.  And don't go on an infinite loop, just in case there's some error.\r\n",
    "\tDim m As String \r\n",
    "\tm = GoExcel.CellValue(\"A\" & i)\r\n",
    "\tIf (m = \"\") Then\r\n",
    "\t\tExit For\r\n",
    "\tEnd If\r\n",
    "\tconfigs.Add(m)\r\n",
    "\tLogger.Debug(m)\r\n",
    "Next i\r\n",
    "configs.Add(\"Custom\")\r\n",
    "\r\n",
    "MultiValue.List(\"ConfigurationName\") = configs"
   ]
  },
  {
   "cell_type": "markdown",
   "metadata": {},
   "source": [
    "### Enviroment Variables \r\n",
    "#### UseLibXL in Variable Name and Variable Value in 1\r\n",
    "For Faster Loading of Excel Files\r\n",
    "(a) It can only read cells with data in them – it doesn’t execute any formulas. \r\n",
    "(b) It doesn’t provide access to the Excel COM interface, so you can only access the spreadsheet using the iLogic GoExcel functions. \r\n",
    "(c) It applies to the whole Inventor session, so all other uses of spreadsheets will also be subject to these restrictions.\r\n",
    "####  Default behavior when using Forge Design Automation API for Inventor and also when using Configurator 360."
   ]
  },
  {
   "cell_type": "code",
   "execution_count": null,
   "metadata": {},
   "outputs": [],
   "source": [
    "If (ConfigurationName = \"Custom\") Then\r\n",
    "Logger.Debug(\"Custom settings -- no changes applied.\")\r\n",
    "IsCustom = True\r\n",
    "Else\r\n",
    "Dim xl_file As String = System.IO.Path.Combine(ThisDoc.Path, \"standardSizes.xlsx\")\r\n",
    "Logger.Trace(\"Excel file is: \" & xl_file)\r\n",
    "GoExcel.FindRowStart = 2\r\n",
    "i = GoExcel.FindRow(xl_file, \"Sheet1\", \"Name\", \"=\", ConfigurationName) 'case-sensitive\r\n",
    "If (i < 0) Then\r\n",
    "    MessageBox.Show(\"Standard configuration named '\" & ConfigurationName & \"' was not found.\")\r\n",
    "Else\r\n",
    "    IsCustom = False\r\n",
    "    Dim yesno As String = GoExcel.CellValue(\"G\" & i) 'GoExcel.CurrentRowValue(\"Cover\") \r\n",
    "    hasCover = (String.Compare(yesno, \"Yes\", True) = 0)\r\n",
    "    Dim vals = GoExcel.CellValues(\"B\" & i, \"F\" & i)\r\n",
    "    length = vals(0)\r\n",
    "    width = vals(1)\r\n",
    "    height = vals(2)\r\n",
    "    coverHeight = vals(3)\r\n",
    "    thickness = vals(4)\r\n",
    "End If\r\n",
    "End If"
   ]
  },
  {
   "cell_type": "code",
   "execution_count": null,
   "metadata": {},
   "outputs": [],
   "source": [
    "//can put this anywhere in your rule and iLogic will update the model when done\r\n",
    "iLogicVb.UpdateWhenDone = True"
   ]
  },
  {
   "cell_type": "markdown",
   "metadata": {},
   "source": [
    "## Units, especially when mixing API and iLogic. API centimeters, iLogic is doc-units"
   ]
  }
 ],
 "metadata": {
  "kernelspec": {
   "display_name": ".NET (C#)",
   "language": "C#",
   "name": ".net-csharp"
  },
  "language_info": {
   "name": "dotnet-interactive.csharp"
  },
  "orig_nbformat": 2
 },
 "nbformat": 4,
 "nbformat_minor": 2
}