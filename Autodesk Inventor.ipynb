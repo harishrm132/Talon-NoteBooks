{
 "cells": [
  {
   "cell_type": "markdown",
   "metadata": {},
   "source": [
    "# Autodesk Inventor - ilogic\r\n",
    "Used in Parts, Assemblies and drawings For Analyze (Read), Modify (Update) and Create/Delete content of the document.\r\n",
    "1.  iLogic Browser - All contents of the ilogic"
   ]
  },
  {
   "cell_type": "markdown",
   "metadata": {},
   "source": [
    "## Parameters"
   ]
  },
  {
   "cell_type": "markdown",
   "metadata": {},
   "source": [
    "## Rules  \r\n",
    "### Clamp Parameter to Range\r\n",
    "Define the Limit of the particular dimension\r\n"
   ]
  },
  {
   "cell_type": "code",
   "execution_count": null,
   "metadata": {},
   "outputs": [],
   "source": [
    "If width < 8 Then\r\n",
    "iProperties.PartColor = \"Red\"\r\n",
    "//\tMessageBox.Show(\"Defined Width is too small; Setting to 8\")\r\n",
    "//\tLogger.Warn(\"Defined Width is too small; Setting to 8\")\r\n",
    "width = 8\r\n",
    "Else\r\n",
    "iProperties.PartColor = \"Particle Board\"\r\n",
    "End if"
   ]
  },
  {
   "cell_type": "markdown",
   "metadata": {},
   "source": [
    "### Feature Toggle\r\n",
    "Toggle Feature or Parts based on the Configuration"
   ]
  },
  {
   "cell_type": "code",
   "execution_count": null,
   "metadata": {},
   "outputs": [],
   "source": [
    "// ***CompanyDecal***\r\n",
    "Feature.IsActive(\"CompanyDecal\") = HasDecal"
   ]
  },
  {
   "cell_type": "markdown",
   "metadata": {},
   "source": [
    "### Project Properties Update\r\n",
    "Properties of the .ipt or .iam Files"
   ]
  },
  {
   "cell_type": "code",
   "execution_count": null,
   "metadata": {},
   "outputs": [],
   "source": [
    "If String.IsNullOrEmpty(iProperties.Value(\"Project\", \"Project\")) Then\r\n",
    " Dim newString = InputBox(\"Customer project ID, or None\", \"Project\", \"\")\r\n",
    " If (Not String.IsNullOrEmpty(newString)) Then\r\n",
    " iProperties.Value(\"Project\", \"Project\") = newString\r\n",
    " End If\r\n",
    "End If"
   ]
  },
  {
   "cell_type": "markdown",
   "metadata": {},
   "source": [
    "## Forms \r\n",
    "Interact with (customize, configure) a model\r\n",
    "Can Add parameters, Combo box values, Run the rule from form\r\n"
   ]
  },
  {
   "cell_type": "markdown",
   "metadata": {},
   "source": [
    "## Events Triggers\r\n",
    "Can Trigger based on the event happen in the document"
   ]
  },
  {
   "cell_type": "code",
   "execution_count": null,
   "metadata": {},
   "outputs": [],
   "source": [
    "//Trigger based on the Props value at time\r\n",
    "If String.IsNullOrEmpty(iProperties.Value(\"Project\", \"Project\")) Then\r\n",
    " Dim newString = InputBox(\"Customer project ID, or None\", \"Project\", \"\")\r\n",
    " If (Not String.IsNullOrEmpty(newString)) Then\r\n",
    " iProperties.Value(\"Project\", \"Project\") = newString\r\n",
    " End If\r\n",
    "End If"
   ]
  },
  {
   "cell_type": "code",
   "execution_count": null,
   "metadata": {},
   "outputs": [],
   "source": [
    "//Update Project Description\r\n",
    "Dim rndLength = RoundToFraction(length, 1 / 8, RoundingMethod.Round)\r\n",
    "Dim rndWidth = RoundToFraction(width, 1 / 8, RoundingMethod.Round)\r\n",
    "Dim rndHeight = RoundToFraction(height, 1/8, RoundingMethod.Round)\r\n",
    "iProperties.Value(\"Project\", \"Description\") = rndLength & \" x \" & rndWidth & \" x \" & rndHeight"
   ]
  }
 ],
 "metadata": {
  "kernelspec": {
   "display_name": ".NET (C#)",
   "language": "C#",
   "name": ".net-csharp"
  },
  "language_info": {
   "name": "dotnet-interactive.csharp"
  },
  "orig_nbformat": 2
 },
 "nbformat": 4,
 "nbformat_minor": 2
}