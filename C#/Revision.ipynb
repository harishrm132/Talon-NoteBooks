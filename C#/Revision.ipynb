{
 "cells": [
  {
   "cell_type": "code",
   "execution_count": null,
   "source": [
    "using System;\r\n",
    "using System.IO;\r\n",
    "using System.Collections.Generic;\r\n",
    "using System.Linq;\r\n",
    "using System.Text;\r\n",
    "using System.Net;\r\n",
    "using System.Threading.Tasks;\r\n",
    "using System.Windows;"
   ],
   "outputs": [],
   "metadata": {
    "dotnet_interactive": {
     "language": "csharp"
    }
   }
  },
  {
   "cell_type": "markdown",
   "source": [
    "# Access modiifers\r\n",
    "    1. Public \r\n",
    "    2. Private\r\n",
    "    3. Internal\r\n",
    "    4. Protected\r\n",
    "    5. Protected Internal  "
   ],
   "metadata": {
    "dotnet_interactive": {
     "language": "csharp"
    }
   }
  },
  {
   "cell_type": "markdown",
   "source": [
    "# Interfaces\r\n",
    "### Why? \r\n",
    "Putting instances of different classes (product models) in one list (shopping cart), \r\n",
    "Connect to multiple Classes using same method (Composition rather than inheritance)\r\n",
    "\r\n",
    "### Example: \r\n",
    "Having multiple data access for retriving and storing datas\r\n",
    "Supports & Fittings have same method with diff operation\r\n"
   ],
   "metadata": {}
  },
  {
   "cell_type": "markdown",
   "source": [
    "# Abstract Class\r\n",
    "Fits betweeen full base class and inetrface. Blend of two.\r\n",
    "Cannot initilize class but can be used at inheritance class\r\n",
    "1.  Abstract method to be implement as interface on parent class - Override method on child class\r\n",
    "2.  VIrtual - Override --> call from parent base class\r\n",
    "\r\n",
    "### Exmaple:\r\n",
    "Lets say we have SQL server and SQL lite to store data and have parent class with Load Connection string method as abstarct class\r\n",
    "\r\n",
    "### When to use?\r\n"
   ],
   "metadata": {}
  },
  {
   "cell_type": "markdown",
   "source": [
    "# Generics\r\n",
    "T - Type of element in list\r\n",
    "Can able to process multiple models of type T.\r\n",
    "Like in Dapper to link SQL with data model."
   ],
   "metadata": {}
  },
  {
   "cell_type": "code",
   "execution_count": null,
   "source": [
    "class Person{}\r\n",
    "\r\n",
    "class LogEntry{}\r\n",
    "\r\n",
    "public static List<T> LoadFromFile<T>(string filePath) where T : class, new()\r\n",
    "{\r\n",
    "    var lines = System.IO.File.ReadAllLines(filePath).ToList();\r\n",
    "    List<T> output = new List<T>();\r\n",
    "    T entry = new T();\r\n",
    "    var cols = entry.GetType().GetProperties();\r\n",
    "\r\n",
    "    //Check one header and data row\r\n",
    "    if(lines.Count < 2){ throw new IndexOutOfRangeException(\"\"); }\r\n",
    "\r\n",
    "    //Split & remove headers\r\n",
    "    var headers = lines[0].Split(\",\");\r\n",
    "    lines.RemoveAt(0);\r\n",
    "\r\n",
    "    foreach(var row in lines)\r\n",
    "    {\r\n",
    "        var value = row.Split(',');\r\n",
    "        for(var i = 0; i < headers.Length; i++)\r\n",
    "        {\r\n",
    "            foreach(var col in cols)\r\n",
    "            {\r\n",
    "                if(col.Name == headers[i])\r\n",
    "                {\r\n",
    "                    col.SetValue(entry, Convert.ChangeType(vals[i], col.PropertyType));\r\n",
    "                }\r\n",
    "            } \r\n",
    "        }\r\n",
    "        output.Add(entry);\r\n",
    "    }\r\n",
    "    return output;\r\n",
    "}\r\n"
   ],
   "outputs": [],
   "metadata": {
    "dotnet_interactive": {
     "language": "csharp"
    }
   }
  },
  {
   "cell_type": "markdown",
   "source": [
    "# Events\r\n",
    "1. Place that triggers the event\r\n",
    "2. Palce or places that consumes the event \r\n",
    "3. ? used for null check before invoke\r\n",
    "4. Remove event listeners before removing form (Memory Leakage). So don't use anonymous function fired.\r\n",
    "\r\n",
    "### Example:\r\n",
    "Developing Event watcher plugin in navisworks"
   ],
   "metadata": {}
  },
  {
   "cell_type": "code",
   "execution_count": null,
   "source": [
    "public class account\r\n",
    "{\r\n",
    "    public event EventHandler<string> TransApprovedEvent; \r\n",
    "\r\n",
    "    private List<string> _transactions = new List<string>();\r\n",
    "\r\n",
    "    public IReadOnlyList<string> Transactions\r\n",
    "    {\r\n",
    "        get { return _transactions.AsReadOnly(); }\r\n",
    "    }\r\n",
    "\r\n",
    "    //Triggered the event\r\n",
    "    public bool AddDeposit(string depositName)\r\n",
    "    {\r\n",
    "        TransApprovedEvent?.Invoke(this, depositName);\r\n",
    "        return true;\r\n",
    "    }\r\n",
    "}\r\n",
    "\r\n",
    "//Listen to event\r\n",
    "public partial class Startwindow\r\n",
    "{\r\n",
    "    public Startwindow\r\n",
    "    {\r\n",
    "        account ac = new account();\r\n",
    "        ac.TransApprovedEvent += account_TransApprovedEvent;\r\n",
    "    }\r\n",
    "\r\n",
    "    private void account_TransApprovedEvent(object sender, string s)\r\n",
    "    {\r\n",
    "        Customer.accounts.Update();\r\n",
    "    }\r\n",
    "}"
   ],
   "outputs": [],
   "metadata": {
    "dotnet_interactive": {
     "language": "csharp"
    }
   }
  },
  {
   "cell_type": "markdown",
   "source": [
    "# Delegates\r\n",
    "Use Pass in method instead of properties.\r\n",
    "Func doesnt out more than one variable so wee have to use Delegate\r\n",
    "\r\n",
    "### Examples\r\n",
    "Event handler is delegate "
   ],
   "metadata": {}
  },
  {
   "cell_type": "code",
   "execution_count": null,
   "source": [
    "class ProductModel\r\n",
    "{\r\n",
    "    public decimal Prize { get; set; } \r\n",
    "}\r\n",
    "public class ShoppingCartModel\r\n",
    "{\r\n",
    "    public delegate void MentionDiscount(decimal subTotal);\r\n",
    "\r\n",
    "    public List<ProductModel> Items { get; set; } = new List<ProductModel>();\r\n",
    "\r\n",
    "    public decimal GenerateTotal(MentionDiscount mentionDiscount,\r\n",
    "        Func<List<ProductModel>, decimal, decimal> CalculateDiscountedTotal,\r\n",
    "        Action<string> postUserDiscounting)\r\n",
    "    {\r\n",
    "        decimal subTotal = Items.Sum(x => x.Prize);\r\n",
    "        mentionDiscount(subTotal);\r\n",
    "       \r\n",
    "        postUserDiscounting(\"We are applying your discount.\" + subTotal);\r\n",
    "\r\n",
    "        return CalculateDiscountedTotal(Items, subTotal);\r\n",
    "    }\r\n",
    "}\r\n",
    "\r\n",
    "public class wiform\r\n",
    "{\r\n",
    "    static ShoppingCartModel cart = new ShoppingCartModel();\r\n",
    "    \r\n",
    "    static void main()\r\n",
    "    {\r\n",
    "        Console.WriteLine($\"Total is { cart.GenerateTotal(subTotalAlert, CalculateLeveledDiscount, AlertUser) }\");\r\n",
    "\r\n",
    "        decimal total = cart.GenerateTotal((subTotal) => Console.WriteLine($\"Total for cart 2 is {subTotal}\"),\r\n",
    "        (products, subTotal) => {\r\n",
    "            if (products.Count > 3)\r\n",
    "            {\r\n",
    "                return subTotal * 0.9m;\r\n",
    "            }\r\n",
    "            else    \r\n",
    "            {\r\n",
    "                return subTotal;\r\n",
    "            }\r\n",
    "        }, (message) => Console.WriteLine($\"SubTotal is {message}\"));\r\n",
    "    }\r\n",
    "    \r\n",
    "    private static void subTotalAlert(decimal subTotal)\r\n",
    "    {\r\n",
    "        Console.WriteLine($\"SubTotal is {subTotal}\");\r\n",
    "    }\r\n",
    "\r\n",
    "    private static void AlertUser(string message)\r\n",
    "    {\r\n",
    "        Console.WriteLine(message);\r\n",
    "    }\r\n",
    "\r\n",
    "    private static decimal CalculateLeveledDiscount(List<ProductModel>, decimal subTotal)\r\n",
    "    {\r\n",
    "        if(subTotal > 100) return subTotal * 0.80M;\r\n",
    "        else { return subTotal; }\r\n",
    "    }\r\n",
    "}"
   ],
   "outputs": [],
   "metadata": {
    "dotnet_interactive": {
     "language": "csharp"
    }
   }
  },
  {
   "cell_type": "markdown",
   "source": [
    "# ASYNC\r\n",
    "1. Dont return from an async method - use Task if want to retuen use Task<string>\r\n",
    "2. await - wait on something to done otherwise next steps will be fired\r\n",
    "3. Words - async, await, Task\r\n",
    "4. IProgress interface used to track progress of an async method with Model\r\n",
    "5. CancellationToken - used to cancel an async method\r\n",
    "6. Parallel Foreach - Run multiple records / Task the opration on multiple records\r\n",
    "   \r\n"
   ],
   "metadata": {}
  },
  {
   "cell_type": "code",
   "execution_count": null,
   "source": [
    "private async void Click()\r\n",
    "{\r\n",
    "    var watch = System.Diagnostics.Stopwatch.StartNew();\r\n",
    "\r\n",
    "    await RunDownloadAsync();\r\n",
    "\r\n",
    "    watch.Stop();\r\n",
    "    var elapsedMs = watch.ElapsedMilliseconds;\r\n",
    "\r\n",
    "    Console.WriteLine($\"Total execution time: { elapsedMs }\");\r\n",
    "} \r\n",
    "\r\n",
    "private async Task RunDownloadAsync()\r\n",
    "{\r\n",
    "    List<string> websites = PrepData();\r\n",
    "\r\n",
    "    foreach (string site in websites)\r\n",
    "    {\r\n",
    "        WebsiteDataModel results = await Task.Run(() => DownloadWebsite(site));\r\n",
    "        \r\n",
    "        ReportWebsiteInfo(results);\r\n",
    "    }\r\n",
    "}\r\n",
    "\r\n",
    "private async Task RunDownloadParallelAsync()\r\n",
    "{\r\n",
    "    List<string> websites = PrepData();\r\n",
    "    List<Task<WebsiteDataModel>> tasks = new List<Task<WebsiteDataModel>>();\r\n",
    "\r\n",
    "    foreach (string site in websites)\r\n",
    "    {\r\n",
    "        //Method 1: wrap around the task in a lambda \r\n",
    "        tasks.Add(Task.Run(() => DownloadWebsite(site)));\r\n",
    "        //Method 2: able to create async method on our own\r\n",
    "        tasks.Add(DownloadWebsiteAsync(site));\r\n",
    "    }\r\n",
    "\r\n",
    "    var results = await Task.WhenAll(tasks);\r\n",
    "\r\n",
    "    foreach (var result in results)\r\n",
    "    {\r\n",
    "        ReportWebsiteInfo(result);\r\n",
    "    }\r\n",
    "}\r\n",
    "\r\n",
    "private List<string> PrepData(){\r\n",
    "    List<string> websites = new List<string>();\r\n",
    "    websites.Add(\"http://www.google.com\");\r\n",
    "    return websites;}\r\n",
    "\r\n",
    "\r\n",
    "private WebsiteDataModel DownloadWebsite(string websiteURL)\r\n",
    "{\r\n",
    "    WebsiteDataModel output = new WebsiteDataModel();\r\n",
    "    System.Net.WebClient client = new System.Net.WebClient();\r\n",
    "\r\n",
    "    output.WebsiteUrl = websiteURL;\r\n",
    "    output.WebsiteData = client.DownloadString(websiteURL);\r\n",
    "\r\n",
    "    return output;\r\n",
    "}\r\n",
    "private async Task<WebsiteDataModel> DownloadWebsiteAsync(string websiteURL)\r\n",
    "{\r\n",
    "    WebsiteDataModel output = new WebsiteDataModel();\r\n",
    "    System.Net.WebClient client = new System.Net.WebClient();\r\n",
    "\r\n",
    "    output.WebsiteUrl = websiteURL;\r\n",
    "    output.WebsiteData = await client.DownloadStringTaskAsync(websiteURL);\r\n",
    "\r\n",
    "    return output;\r\n",
    "}\r\n",
    "private void ReportWebsiteInfo(WebsiteDataModel data)\r\n",
    "{\r\n",
    "    Console.WriteLine($\"{ data.WebsiteUrl } downloaded: { data.WebsiteData.Length } characters long.{ Environment.NewLine }\");\r\n",
    "}\r\n",
    "public class WebsiteDataModel\r\n",
    "{\r\n",
    "    public string WebsiteUrl { get; set; } = \"\";\r\n",
    "    public string WebsiteData { get; set; } = \"\";\r\n",
    "}"
   ],
   "outputs": [],
   "metadata": {
    "dotnet_interactive": {
     "language": "csharp"
    }
   }
  },
  {
   "cell_type": "code",
   "execution_count": null,
   "source": [],
   "outputs": [],
   "metadata": {
    "dotnet_interactive": {
     "language": "csharp"
    }
   }
  }
 ],
 "metadata": {
  "kernelspec": {
   "display_name": ".NET (C#)",
   "language": "C#",
   "name": ".net-csharp"
  },
  "language_info": {
   "name": "C#"
  }
 },
 "nbformat": 4,
 "nbformat_minor": 2
}