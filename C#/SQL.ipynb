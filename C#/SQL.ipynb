{
 "metadata": {
  "kernelspec": {
   "display_name": ".NET (C#)",
   "language": "C#",
   "name": ".net-csharp"
  },
  "language_info": {
   "name": "C#"
  }
 },
 "cells": [
  {
   "cell_type": "markdown",
   "source": [
    "# SQLITE\r\n",
    "1.  [SQLite Browser](https://sqlitebrowser.org/)\r\n",
    "2.  C# REFERENCE - [SQLite.NET](https://www.nuget.org/packages/System.Data.SQLite.Core/)\r\n",
    "    - [SQLite.NET SUPPORT LIB](https://www.nuget.org/packages/Stub.System.Data.SQLite.Core.NetFramework/)  "
   ],
   "metadata": {}
  }
 ],
 "nbformat": 4,
 "nbformat_minor": 2
}