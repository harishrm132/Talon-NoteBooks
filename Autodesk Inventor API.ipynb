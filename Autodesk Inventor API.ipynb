{
 "cells": [
  {
   "cell_type": "markdown",
   "metadata": {},
   "source": [
    "# Autodesk Inventor API\r\n",
    "Based on a COM technology with (VB.NET, C++, C# and Python) to develop a plug-in."
   ]
  },
  {
   "cell_type": "markdown",
   "metadata": {},
   "source": [
    "## Reference\r\n",
    "> C:\\Windows\\Microsoft.NET\\assembly\\GAC_MSIL\\Autodesk.Inventor.Interop\\\r\n",
    "> C:\\Program Files\\Autodesk\\Inventor 20xx\\Bin\\Public Assemblies\\"
   ]
  },
  {
   "cell_type": "code",
   "execution_count": null,
   "metadata": {},
   "outputs": [],
   "source": [
    "using System.Windows.Forms;\r\n",
    "using Inventor;\r\n",
    "\r\n",
    "Inventor.Application _invApp;\r\n",
    "bool _started = false;"
   ]
  },
  {
   "cell_type": "markdown",
   "metadata": {},
   "source": [
    "## Create and open Inventor instance\r\n",
    "Connect to or start an Inventor session "
   ]
  },
  {
   "cell_type": "code",
   "execution_count": null,
   "metadata": {},
   "outputs": [],
   "source": [
    "try\r\n",
    "{\r\n",
    "    _invApp = (Inventor.Application)Marshal.GetActiveObject(\"Inventor.Application\");\r\n",
    "\r\n",
    "}\r\n",
    "catch (Exception ex)\r\n",
    "{\r\n",
    "    try\r\n",
    "    {\r\n",
    "        Type invAppType = Type.GetTypeFromProgID(\"Inventor.Application\");\r\n",
    "\r\n",
    "        _invApp = (Inventor.Application)System.Activator.CreateInstance(invAppType);\r\n",
    "        _invApp.Visible = true;\r\n",
    "\r\n",
    "        //Note: if the Inventor session is left running after this //form is closed, there will still an be and Inventor.exe running. \r\n",
    "        //We will use this Boolean to test in Form1.Designer.cs in the dispose method whether or not the Inventor App should be shut down when the form is closed.\r\n",
    "        _started = true;\r\n",
    "\r\n",
    "    }\r\n",
    "    catch (Exception ex2)\r\n",
    "    {\r\n",
    "        MessageBox.Show(ex2.ToString());\r\n",
    "        MessageBox.Show(\"Unable to get or start Inventor\");\r\n",
    "    }\r\n",
    "}"
   ]
  },
  {
   "cell_type": "code",
   "execution_count": null,
   "metadata": {},
   "outputs": [],
   "source": [
    "//Check whether Document is open and Verify it is assembly documnent\r\n",
    "if (_invApp.Documents.Count == 0) { MessageBox.Show(\"Need to open an Assembly document\"); return; }\r\n",
    "if (_invApp.ActiveDocument.DocumentType != DocumentTypeEnum.kAssemblyDocumentObject)\r\n",
    "{ MessageBox.Show(\"Need to have an Assembly document active\"); return; }"
   ]
  },
  {
   "cell_type": "markdown",
   "metadata": {},
   "source": [
    "## Open Part or Assembly Document"
   ]
  },
  {
   "cell_type": "code",
   "execution_count": null,
   "metadata": {},
   "outputs": [],
   "source": [
    "AssemblyDocument asmDoc = default(AssemblyDocument);\r\n",
    "PartDocument partDoc = default(PartDocument);\r\n",
    "asmDoc = (AssemblyDocument)_invApp.ActiveDocument;"
   ]
  },
  {
   "cell_type": "markdown",
   "metadata": {},
   "source": [
    "### Check and find the Selected component list"
   ]
  },
  {
   "cell_type": "code",
   "execution_count": null,
   "metadata": {},
   "outputs": [],
   "source": [
    "if (asmDoc.SelectSet.Count == 0) { MessageBox.Show(\"Need to select a Part or Sub Assembly\"); return; }\r\n",
    "SelectSet selSet = default(SelectSet);\r\n",
    "selSet = asmDoc.SelectSet;\r\n",
    "\r\n",
    "//Loop though Selected Component and Change the visibilty of the component\r\n",
    "try\r\n",
    "{\r\n",
    "    ComponentOccurrence compOcc = default(ComponentOccurrence);\r\n",
    "    foreach (object obj in selSet)\r\n",
    "    {\r\n",
    "        compOcc = (ComponentOccurrence)obj;\r\n",
    "        System.Diagnostics.Debug.Print(compOcc.Name);\r\n",
    "        compOcc.Visible = false;\r\n",
    "    }\r\n",
    "}\r\n",
    "catch (Exception ex) { MessageBox.Show(\"Is the selected item a Component? \\n\" + ex.ToString()); return; }"
   ]
  },
  {
   "cell_type": "markdown",
   "metadata": {},
   "source": [
    "### Attribute Sets\r\n",
    "Attribute Set here is the selected parts or sub-assemblies\r\n",
    "#### Add Attribute Sets\r\n",
    "> Instead of directly hiding the selected components, you’ll now modify the code to “tag” your components for later hiding or display. Attaching attributes provided by the Inventor API will allow you to identify and perform different operations on your tagged components.\r\n",
    "\r\n",
    "Three Inventor API classes that are used to add an Attribute to entities, one of which is the AttributeSets collection.\r\n",
    "> Attribute --> AttritubeSet --> AttributeSets"
   ]
  },
  {
   "cell_type": "code",
   "execution_count": null,
   "metadata": {},
   "outputs": [],
   "source": [
    "AttributeSets attbSets = compOcc.AttributeSets;\r\n",
    "// Add the attributes to the ComponentOccurrence\r\n",
    "if (!attbSets.NameIsUsed[\"myPartGroup\"])\r\n",
    "{\r\n",
    "    AttributeSet attbSet = attbSets.Add(\"myPartGroup\");\r\n",
    "    Inventor.Attribute attb = attbSet.Add(\"PartGroup1\", ValueTypeEnum.kStringType, \"Group1\");\r\n",
    "}"
   ]
  },
  {
   "cell_type": "markdown",
   "metadata": {},
   "source": [
    "#### Remove Attribute Sets"
   ]
  },
  {
   "cell_type": "code",
   "execution_count": null,
   "metadata": {},
   "outputs": [],
   "source": [
    "AttributeSets attbSets = compOcc.AttributeSets;\r\n",
    "if (attbSets.NameIsUsed[\"myPartGroup\"] ) { attbSets[\"myPartGroup\"].Delete(); }"
   ]
  },
  {
   "cell_type": "markdown",
   "metadata": {},
   "source": [
    "#### Remove All from Attribute Set\r\n",
    "Gets all the components with your AttributeSet attached and deletes the AttributeSet from each one (rather than deleting it only from the selected components). In this Sub, after you had an ObjectCollection with all of the components in the Assembly with your AttributeSet attached, you used a For Next loop to delete the AttributeSet from each component. You also needed to make each component visible: after the Sub had finished its work, these components no longer had your AttributeSet attached, and so would no longer be affected by the “Show group” button."
   ]
  },
  {
   "cell_type": "code",
   "execution_count": null,
   "metadata": {},
   "outputs": [],
   "source": [
    "AttributeManager attbMan = asmDoc.AttributeManager;\r\n",
    "ObjectCollection objsCol = default(ObjectCollection);\r\n",
    "objsCol = attbMan.FindObjects(\"myPartGroup\", \"PartGroup1\", \"Group1\");\r\n",
    "\r\n",
    "AttributeSets attbSets;\r\n",
    "foreach (ComponentOccurrence obj in objsCol)\r\n",
    "{\r\n",
    "    attbSets = (AttributeSets)obj.AttributeSets;\r\n",
    "    attbSets[\"myPartGroup\"].Delete();\r\n",
    "    obj.Visible = true;\r\n",
    "}\r\n"
   ]
  },
  {
   "cell_type": "markdown",
   "metadata": {},
   "source": [
    "#### Show/Hide Attribute Sets\r\n",
    "Attribute Visibility Switch ON/OFF"
   ]
  },
  {
   "cell_type": "code",
   "execution_count": null,
   "metadata": {},
   "outputs": [],
   "source": [
    "try\r\n",
    "{\r\n",
    "    AttributeManager attbMan = asmDoc.AttributeManager;\r\n",
    "    ObjectCollection objsCol = default(ObjectCollection);\r\n",
    "    objsCol = attbMan.FindObjects(\"myPartGroup\", \"PartGroup1\", \"Group1\");\r\n",
    "    ComponentOccurrence compOcc = default(ComponentOccurrence);\r\n",
    "    foreach (object obj in objsCol)\r\n",
    "    {\r\n",
    "        compOcc = (ComponentOccurrence)obj;\r\n",
    "        // Toggle the visibility of the Component Occurrence\r\n",
    "        compOcc.Visible = !compOcc.Visible; //(Can Be added to Params like compOcc.Visible = hide)\r\n",
    "    }\r\n",
    "}\r\n",
    "catch (Exception ex) { MessageBox.Show(\"Problem hiding component\"); }"
   ]
  }
 ],
 "metadata": {
  "kernelspec": {
   "display_name": ".NET (C#)",
   "language": "C#",
   "name": ".net-csharp"
  },
  "language_info": {
   "name": "dotnet-interactive.csharp"
  },
  "orig_nbformat": 2
 },
 "nbformat": 4,
 "nbformat_minor": 2
}